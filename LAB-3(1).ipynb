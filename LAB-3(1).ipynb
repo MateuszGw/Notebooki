{
 "cells": [
  {
   "cell_type": "markdown",
   "metadata": {},
   "source": [
    "# Zadanie 1\n",
    "\n",
    "Przetestujcie wykonywanie prostych obliczeń w języku Python"
   ]
  },
  {
   "cell_type": "code",
   "execution_count": 2,
   "metadata": {},
   "outputs": [
    {
     "name": "stdout",
     "output_type": "stream",
     "text": [
      "3\n"
     ]
    }
   ],
   "source": [
    "a = 1\n",
    "b = 2\n",
    "\n",
    "print (a+b)"
   ]
  },
  {
   "cell_type": "code",
   "execution_count": 11,
   "metadata": {},
   "outputs": [
    {
     "name": "stdout",
     "output_type": "stream",
     "text": [
      "8\n",
      "16\n",
      "2.0\n",
      "0.75\n",
      "0\n"
     ]
    }
   ],
   "source": [
    "a = 4\n",
    "b = 2\n",
    "print (a*b)\n",
    "print (a**b)\n",
    "print (a/b)\n",
    "print (3/4)\n",
    "print (3//4)"
   ]
  },
  {
   "cell_type": "markdown",
   "metadata": {},
   "source": [
    "# Zadanie 2\n",
    "\n",
    "Instrukcja warunkowa w języku Python ma składnię\n",
    "\n",
    "```python\n",
    "if condition:\n",
    "    expr1\n",
    "    expr2\n",
    "    \n",
    "if condition:\n",
    "    expr1\n",
    "    expr2\n",
    "else:\n",
    "    expr3\n",
    "    \n",
    "if condition:\n",
    "    expr1\n",
    "    expr2\n",
    "elif condition2:\n",
    "    expr3\n",
    "else:\n",
    "    expr4\n",
    "    \n",
    "```\n",
    "\n",
    "Napisz program, który dla podanych ocen z wykładu i laboratorium obliczy ocenę końcową z grupy kursów.\n",
    "\n",
    "- Ocena = (0.6W+0.4L) jeśli W >= 3.0 i L >= 3.0\n",
    "- Ocena = 2.0 jeśli W == 2.0 lub L == 2.0"
   ]
  },
  {
   "cell_type": "code",
   "execution_count": 3,
   "metadata": {},
   "outputs": [],
   "source": [
    "W = 3\n",
    "L = 4\n",
    "\n",
    "\n",
    "# ...\n",
    "\n",
    "\n",
    "\n",
    "# print ( ocena )"
   ]
  },
  {
   "cell_type": "code",
   "execution_count": 15,
   "metadata": {},
   "outputs": [
    {
     "name": "stdout",
     "output_type": "stream",
     "text": [
      "3.5\n"
     ]
    }
   ],
   "source": [
    "W = 3\n",
    "L = 4\n",
    "\n",
    "if W == 2.0:\n",
    "    ocena = 2.0\n",
    "elif W >= 3.0:\n",
    "    if L >= 3.0:\n",
    "        ocena = (0.6)*W + (0.4)*L\n",
    "    else:\n",
    "        ocena == 2.0\n",
    "ocena *= 2\n",
    "ocena = round(ocena,0)\n",
    "print (ocena/2)"
   ]
  },
  {
   "cell_type": "markdown",
   "metadata": {},
   "source": [
    "# Zadanie 3\n",
    "\n",
    "Napisz kod, który dla danego wzrostu i wagi wyświetli BMI osoby oraz poda słowną interpretację\n",
    "\n",
    "\n",
    "Zakresy wartości BMI:\n",
    "\n",
    "    mniej niż 16 - wygłodzenie\n",
    "    16 - 16.99   - wychudzenie\n",
    "    17 - 18.49   - niedowaga\n",
    "    18.5 - 24.99 - wartość prawidłowa\n",
    "    25 - 29.99   - nadwaga\n",
    "    30 - 34.99   - I stopień otyłości\n",
    "    35 - 39.99   - II stopień otyłości\n",
    "    powyżej 40   - otyłość skrajna\n",
    "\n",
    "Dla przypomnienia\n",
    "\n",
    "$$ BMI = \\frac {masa}{wzrost^2} $$\n",
    "\n",
    "gdzie masa jest podana w kilogramach a wzrost w metrach"
   ]
  },
  {
   "cell_type": "code",
   "execution_count": 1,
   "metadata": {},
   "outputs": [],
   "source": [
    "wzrost = 1.8\n",
    "waga = 90\n",
    "\n",
    "# ...."
   ]
  },
  {
   "cell_type": "code",
   "execution_count": 38,
   "metadata": {},
   "outputs": [
    {
     "name": "stdout",
     "output_type": "stream",
     "text": [
      "30.864197530864196\n",
      "I stopień otyłości\n"
     ]
    }
   ],
   "source": [
    "wzrost = 1.8\n",
    "waga = 100\n",
    "\n",
    "bmi = waga/wzrost**2\n",
    "print(bmi)\n",
    "\n",
    "if bmi <= 16.00:\n",
    "    print('wygłodzenie')\n",
    "elif 16 <= bmi <= 16.99:\n",
    "    print('wychudzenie')\n",
    "elif 17 <= bmi <= 18.49:\n",
    "    print('niedowaga')\n",
    "elif 18.5 <= bmi <= 24.99:\n",
    "    print('wartość prawidłowa')\n",
    "elif 25 <= bmi <= 29.99:\n",
    "    print('nadwaga')\n",
    "elif 30 <= bmi <= 34.99:\n",
    "    print('I stopień otyłości')\n",
    "elif 35 <= bmi <= 39.99:\n",
    "    print('II stopień otyłości')\n",
    "elif bmi >= 40:\n",
    "    print('otyłość skrajna')\n",
    "\n",
    "\n",
    "\n",
    "\n",
    "\n",
    "\n"
   ]
  },
  {
   "cell_type": "markdown",
   "metadata": {},
   "source": [
    "# Zadanie 4\n",
    "\n",
    "Składnia pętli while w Pythonie:\n",
    "    \n",
    "```python\n",
    "while condition:\n",
    "    expr1\n",
    "    expr2\n",
    "```\n",
    "\n",
    "Napisz program, który wyświetli wszystkie liczby podzielne przez 5 z zakresu od A do B\n"
   ]
  },
  {
   "cell_type": "code",
   "execution_count": 43,
   "metadata": {},
   "outputs": [
    {
     "name": "stdout",
     "output_type": "stream",
     "text": [
      "5\n",
      "10\n",
      "15\n",
      "20\n",
      "25\n",
      "30\n",
      "35\n",
      "40\n",
      "45\n",
      "50\n",
      "55\n",
      "60\n",
      "65\n",
      "70\n"
     ]
    }
   ],
   "source": [
    "A = 3\n",
    "B = 72\n",
    "\n",
    "while A<=B:\n",
    "    if A%5 == 0:\n",
    "        print(A)\n",
    "    A+=1\n"
   ]
  },
  {
   "cell_type": "code",
   "execution_count": null,
   "metadata": {},
   "outputs": [],
   "source": []
  },
  {
   "cell_type": "markdown",
   "metadata": {},
   "source": [
    "# Zadanie 5\n",
    "\n",
    "Wyświetl tabelę konwersji temperatur ze stopni Celsjusza na stopnie Fahrenhaita. Wyświetl ją dla temepratur z zakresu 0C....50C z krokiem 0.5 stopnia\n",
    "Tabelka powinna mieć ładne ramki ;)\n"
   ]
  },
  {
   "cell_type": "code",
   "execution_count": null,
   "metadata": {},
   "outputs": [],
   "source": []
  },
  {
   "cell_type": "code",
   "execution_count": 7,
   "metadata": {},
   "outputs": [
    {
     "data": {
      "text/plain": [
       "[0, 1, 4]"
      ]
     },
     "execution_count": 7,
     "metadata": {},
     "output_type": "execute_result"
    }
   ],
   "source": [
    "[ x**2 for x in range(3)]"
   ]
  },
  {
   "cell_type": "code",
   "execution_count": 69,
   "metadata": {},
   "outputs": [
    {
     "name": "stdout",
     "output_type": "stream",
     "text": [
      "| 0.0 32.0 |\n",
      "| 0.5 32.9 |\n",
      "| 1.0 33.8 |\n",
      "| 1.5 34.7 |\n",
      "| 2.0 35.6 |\n",
      "| 2.5 36.5 |\n",
      "| 3.0 37.4 |\n",
      "| 3.5 38.3 |\n",
      "| 4.0 39.2 |\n",
      "| 4.5 40.1 |\n",
      "| 5.0 41.0 |\n",
      "| 5.5 41.9 |\n",
      "| 6.0 42.8 |\n",
      "| 6.5 43.7 |\n",
      "| 7.0 44.6 |\n",
      "| 7.5 45.5 |\n",
      "| 8.0 46.4 |\n",
      "| 8.5 47.3 |\n",
      "| 9.0 48.2 |\n",
      "| 9.5 49.1 |\n",
      "| 10.0 50.0 |\n",
      "| 10.5 50.9 |\n",
      "| 11.0 51.8 |\n",
      "| 11.5 52.7 |\n",
      "| 12.0 53.6 |\n",
      "| 12.5 54.5 |\n",
      "| 13.0 55.4 |\n",
      "| 13.5 56.3 |\n",
      "| 14.0 57.2 |\n",
      "| 14.5 58.1 |\n",
      "| 15.0 59.0 |\n",
      "| 15.5 59.9 |\n",
      "| 16.0 60.8 |\n",
      "| 16.5 61.7 |\n",
      "| 17.0 62.6 |\n",
      "| 17.5 63.5 |\n",
      "| 18.0 64.4 |\n",
      "| 18.5 65.3 |\n",
      "| 19.0 66.2 |\n",
      "| 19.5 67.1 |\n",
      "| 20.0 68.0 |\n",
      "| 20.5 68.9 |\n",
      "| 21.0 69.8 |\n",
      "| 21.5 70.7 |\n",
      "| 22.0 71.6 |\n",
      "| 22.5 72.5 |\n",
      "| 23.0 73.4 |\n",
      "| 23.5 74.3 |\n",
      "| 24.0 75.2 |\n",
      "| 24.5 76.1 |\n",
      "| 25.0 77.0 |\n",
      "| 25.5 77.9 |\n",
      "| 26.0 78.8 |\n",
      "| 26.5 79.7 |\n",
      "| 27.0 80.6 |\n",
      "| 27.5 81.5 |\n",
      "| 28.0 82.4 |\n",
      "| 28.5 83.3 |\n",
      "| 29.0 84.2 |\n",
      "| 29.5 85.1 |\n",
      "| 30.0 86.0 |\n",
      "| 30.5 86.9 |\n",
      "| 31.0 87.8 |\n",
      "| 31.5 88.7 |\n",
      "| 32.0 89.6 |\n",
      "| 32.5 90.5 |\n",
      "| 33.0 91.4 |\n",
      "| 33.5 92.3 |\n",
      "| 34.0 93.2 |\n",
      "| 34.5 94.1 |\n",
      "| 35.0 95.0 |\n",
      "| 35.5 95.9 |\n",
      "| 36.0 96.8 |\n",
      "| 36.5 97.7 |\n",
      "| 37.0 98.6 |\n",
      "| 37.5 99.5 |\n",
      "| 38.0 100.4 |\n",
      "| 38.5 101.3 |\n",
      "| 39.0 102.2 |\n",
      "| 39.5 103.1 |\n",
      "| 40.0 104.0 |\n",
      "| 40.5 104.9 |\n",
      "| 41.0 105.8 |\n",
      "| 41.5 106.7 |\n",
      "| 42.0 107.6 |\n",
      "| 42.5 108.5 |\n",
      "| 43.0 109.4 |\n",
      "| 43.5 110.3 |\n",
      "| 44.0 111.2 |\n",
      "| 44.5 112.1 |\n",
      "| 45.0 113.0 |\n",
      "| 45.5 113.9 |\n",
      "| 46.0 114.8 |\n",
      "| 46.5 115.7 |\n",
      "| 47.0 116.6 |\n",
      "| 47.5 117.5 |\n",
      "| 48.0 118.4 |\n",
      "| 48.5 119.3 |\n",
      "| 49.0 120.2 |\n",
      "| 49.5 121.1 |\n",
      "| 50.0 122.0 |\n"
     ]
    }
   ],
   "source": [
    "x=[x/2 for x in range(101)]\n",
    "y=[x*9/10+32 for x in range(101)]\n",
    "i=0\n",
    "while i < 101:\n",
    "    print('|',x[i],y[i],'|')\n",
    "    i += 1"
   ]
  },
  {
   "cell_type": "code",
   "execution_count": null,
   "metadata": {},
   "outputs": [],
   "source": []
  }
 ],
 "metadata": {
  "kernelspec": {
   "display_name": "Python 3 (ipykernel)",
   "language": "python",
   "name": "python3"
  },
  "language_info": {
   "codemirror_mode": {
    "name": "ipython",
    "version": 3
   },
   "file_extension": ".py",
   "mimetype": "text/x-python",
   "name": "python",
   "nbconvert_exporter": "python",
   "pygments_lexer": "ipython3",
   "version": "3.9.7"
  }
 },
 "nbformat": 4,
 "nbformat_minor": 4
}
