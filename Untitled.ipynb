{
 "cells": [
  {
   "cell_type": "code",
   "execution_count": null,
   "id": "d97b50a1",
   "metadata": {},
   "outputs": [],
   "source": []
  },
  {
   "cell_type": "code",
   "execution_count": 68,
   "id": "2388fcf2",
   "metadata": {},
   "outputs": [
    {
     "name": "stdout",
     "output_type": "stream",
     "text": [
      "0      4.0\n",
      "1      3.5\n",
      "2      3.0\n",
      "3      3.0\n",
      "4      4.5\n",
      "      ... \n",
      "493    4.0\n",
      "494    3.0\n",
      "495    3.0\n",
      "496    4.0\n",
      "497    4.5\n",
      "Length: 498, dtype: float64\n"
     ]
    },
    {
     "data": {
      "text/plain": [
       "3.0    123\n",
       "4.0    113\n",
       "3.5    102\n",
       "2.5     67\n",
       "4.5     51\n",
       "5.0     22\n",
       "2.0     20\n",
       "dtype: int64"
      ]
     },
     "execution_count": 68,
     "metadata": {},
     "output_type": "execute_result"
    }
   ],
   "source": [
    "import numpy as np\n",
    "import matplotlib.pyplot as plt\n",
    "import pandas as pd\n",
    "\n",
    "dane =pd.read_csv(r\"C:\\Users\\matik\\Desktop\\Studia\\Technologie informacyjne\\oceny_studentow.csv\")\n",
    "\n",
    "dane.iloc[0:,0:]\n",
    "\n",
    "koncowa = 0.4*dane.iloc[0:,2] + 0.6* dane.iloc[0:,3]\n",
    "koncowa *=2\n",
    "k=round(koncowa,0)\n",
    "k/=2\n",
    "print(k)\n",
    "\n",
    "k.value_counts()\n"
   ]
  },
  {
   "cell_type": "code",
   "execution_count": null,
   "id": "639b3ac9",
   "metadata": {},
   "outputs": [],
   "source": []
  }
 ],
 "metadata": {
  "kernelspec": {
   "display_name": "Python 3 (ipykernel)",
   "language": "python",
   "name": "python3"
  },
  "language_info": {
   "codemirror_mode": {
    "name": "ipython",
    "version": 3
   },
   "file_extension": ".py",
   "mimetype": "text/x-python",
   "name": "python",
   "nbconvert_exporter": "python",
   "pygments_lexer": "ipython3",
   "version": "3.9.7"
  }
 },
 "nbformat": 4,
 "nbformat_minor": 5
}
