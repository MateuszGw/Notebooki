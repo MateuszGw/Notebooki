{
 "cells": [
  {
   "cell_type": "code",
   "execution_count": null,
   "metadata": {},
   "outputs": [],
   "source": [
    "%matplotlib widget\n",
    "# jeśli wykresy nie będą działać - usuń (zakomentuj) powyższą linijkę i zrestartuj kernel notebooka\n",
    "\n",
    "import numpy as np\n",
    "import matplotlib.pyplot as plt"
   ]
  },
  {
   "cell_type": "code",
   "execution_count": null,
   "metadata": {},
   "outputs": [],
   "source": []
  },
  {
   "cell_type": "markdown",
   "metadata": {},
   "source": [
    "---\n",
    "\n",
    "Użyj odpowiednich funkcji pakietu NumPy aby zdefiniować \n",
    "- macierz 3x3 o zadanych wartościach (dowolnych)\n",
    "- macierz jednostkową o wymiarze 3x3\n",
    "\n",
    "1. Oblicz \"ręcznie\" wyznaczniki wygenerowanych macierzy\n",
    "2. Porównaj uzyskane wyniki z funkcją ```np.linalg.det```\n"
   ]
  },
  {
   "cell_type": "code",
   "execution_count": null,
   "metadata": {},
   "outputs": [],
   "source": [
    "A = np.matrix(\n",
    "    [\n",
    "        [ .... ],\n",
    "        [ .... ],\n",
    "        [ .... ]\n",
    "    ]\n",
    ")"
   ]
  },
  {
   "cell_type": "code",
   "execution_count": 17,
   "metadata": {},
   "outputs": [
    {
     "name": "stdout",
     "output_type": "stream",
     "text": [
      "[[1 4 0]\n",
      " [1 9 3]\n",
      " [0 1 1]]\n",
      "2.0\n",
      "[[1 0 0]\n",
      " [0 1 0]\n",
      " [0 0 1]]\n",
      "1.0\n"
     ]
    }
   ],
   "source": [
    "import numpy as np\n",
    "A = np.matrix(\n",
    "    [\n",
    "        [1,4,0],\n",
    "        [1,9,3],\n",
    "        [0,1,1]\n",
    "    ]\n",
    ")\n",
    "I = np.matrix(\n",
    "[\n",
    "    [1,0,0],\n",
    "    [0,1,0],\n",
    "    [0,0,1]\n",
    "]\n",
    ")\n",
    " \n",
    "#detI = 1+0+0-0-0-0\n",
    "detA = np.linalg.det(A)\n",
    "detA = round(detA,2)\n",
    "detI = np.linalg.det(I)\n",
    "print(A)\n",
    "print(detA)\n",
    "print(I)\n",
    "print(detI)"
   ]
  },
  {
   "cell_type": "markdown",
   "metadata": {},
   "source": [
    "---\n",
    "\n",
    "Dany jest układ równań o postaci\n",
    "\n",
    "$$\n",
    "\\left\\{ \\begin{array}{ll}\n",
    "2x - y = -1\\\\\n",
    "3x +y =16\n",
    "\\end{array} \\right.\n",
    "$$\n",
    "\n",
    "          \n",
    "Rozwiąż ten układ równań metodą wyznaczników."
   ]
  },
  {
   "cell_type": "code",
   "execution_count": null,
   "metadata": {},
   "outputs": [],
   "source": [
    "# W =    np.array(...) lub np.matrix(...)\n",
    "# Wx = \n",
    "# Wy = \n",
    "\n",
    "\n",
    "# policzyć wyznaczniki np. za pomocą funkcji np.linalg.det\n",
    "# wW = ...\n",
    "# wWx\n",
    "# wWy\n",
    "#print (wW, wWx, wWy)\n",
    "\n",
    "# sprawdzić przypadki szczególne\n",
    "\n",
    "# podać rozwiązanie\n",
    "# x=\n",
    "# y=wWy/wW\n",
    "# print(x,y)"
   ]
  },
  {
   "cell_type": "code",
   "execution_count": 32,
   "metadata": {},
   "outputs": [
    {
     "name": "stdout",
     "output_type": "stream",
     "text": [
      "x= 3.0 y= 7.0\n"
     ]
    }
   ],
   "source": [
    "import numpy as np\n",
    "\n",
    "W = np.matrix(\n",
    "[\n",
    "    [2,-1],\n",
    "    [3,1]\n",
    "]\n",
    ")\n",
    "\n",
    "Wx = np.matrix(\n",
    "[\n",
    "    [-1,-1],\n",
    "    [16,1]\n",
    "]\n",
    ")\n",
    "\n",
    "Wy = np.matrix(\n",
    "[\n",
    "    [2,-1],\n",
    "    [3,16]\n",
    "]\n",
    ")\n",
    "\n",
    "wW = np.linalg.det(W)\n",
    "wWx = np.linalg.det(Wx)\n",
    "wWy = np.linalg.det(Wy)\n",
    "\n",
    "x=round((wWx/wW),2)\n",
    "y=wWy/wW\n",
    "\n",
    "\n",
    "print('x=',x,'y=',y)"
   ]
  },
  {
   "cell_type": "markdown",
   "metadata": {},
   "source": [
    "Powyższy układ równań możemy zapisać \"macierzowo\" (zamiast x i y użyłem zapisu x_1 i x_2)\n",
    "\n",
    "$$\n",
    "\\begin{bmatrix}\n",
    "a_{11} & a_{12} \\\\\n",
    "a_{21} & a_{22}\n",
    "\\end{bmatrix}\n",
    "\\begin{bmatrix}\n",
    "x_1\\\\\n",
    "x_2\n",
    "\\end{bmatrix}\n",
    "=\n",
    "\\begin{bmatrix}\n",
    "c_1 \\\\\n",
    "c_2\n",
    "\\end{bmatrix}\n",
    "$$\n",
    "To samo możemy zapisać jako\n",
    "$$\n",
    "AX=C\n",
    "$$\n",
    "\n",
    "Gdybyśmy znali macierz odwrotną do A, to moglibyśmy obie strony tego równania przemnożyć lewostronnie:\n",
    "$$\n",
    "A^{-1}AX=A^{-1}C\n",
    "$$\n",
    "co dałoby nam\n",
    "$$\n",
    "IX=A^{-1}C\n",
    "$$\n",
    "czyli\n",
    "$$\n",
    "X=A^{-1}C\n",
    "$$\n",
    "\n",
    "Wykorzystajcie to, że w NumPy można podnieść macierz do dowolnej potęgi i spróbujcie w ten sposób rozwiązać powyższy uład równań"
   ]
  },
  {
   "cell_type": "code",
   "execution_count": null,
   "metadata": {},
   "outputs": [],
   "source": [
    "# wprowadź współczynniki macierzy A\n",
    "# A = np.matrix(\n",
    "#[\n",
    "#    [ ... ],\n",
    "#    [ ... ]\n",
    "#])\n",
    "\n",
    "# oblicz AA jako odwrotność A\n",
    "# AA = \n",
    "\n",
    "# wprowadź współczynniki macierzy C\n",
    "# C = np.matrix(...)\n",
    "\n",
    "# Oblicz iloczyn odwrotności macierzy A i C\n",
    "# X =\n",
    "# print(X)\n",
    "\n",
    "# sprawdź , czy AA*A daje macierz jednostkową\n",
    "# I = \n",
    "# print(I.round(2))"
   ]
  },
  {
   "cell_type": "code",
   "execution_count": 46,
   "metadata": {},
   "outputs": [
    {
     "name": "stdout",
     "output_type": "stream",
     "text": [
      "[[-4. ]\n",
      " [ 4.5]]\n"
     ]
    }
   ],
   "source": [
    "A = np.matrix(\n",
    "[\n",
    "    [1,2],\n",
    "    [3,4]\n",
    "]\n",
    ")\n",
    "\n",
    "C = np.matrix(\n",
    "[\n",
    "    [5],\n",
    "    [6]\n",
    "]\n",
    ")\n",
    "\n",
    "X = AA*C\n",
    "\n",
    "AA = A**(-1)\n",
    "print(X)\n"
   ]
  },
  {
   "cell_type": "markdown",
   "metadata": {},
   "source": [
    "Porównaj uzyskane rezultaty z wynikiem działania funkcji ```np.linalg.solve```\n"
   ]
  },
  {
   "cell_type": "code",
   "execution_count": 47,
   "metadata": {},
   "outputs": [
    {
     "data": {
      "text/plain": [
       "matrix([[-4. ],\n",
       "        [ 4.5]])"
      ]
     },
     "execution_count": 47,
     "metadata": {},
     "output_type": "execute_result"
    }
   ],
   "source": [
    "A = np.matrix(\n",
    "[\n",
    "    [1,2],\n",
    "    [3,4]\n",
    "])\n",
    "\n",
    "C = np.matrix(\n",
    "[\n",
    "    [5],\n",
    "    [6]\n",
    "]\n",
    ")\n",
    "\n",
    "\n",
    "np.linalg.solve(A,C)"
   ]
  },
  {
   "cell_type": "markdown",
   "metadata": {},
   "source": [
    "---\n",
    "\n",
    "Proste wykresy funkcji możemy sobie stworzyć korzystając z następującej metody\n",
    "\n",
    "1. definiujemy wektor przechowujący kolejne wartości na osi OX, np. 100 wartości z zakresu 4...10\n",
    "\n",
    "x = np.linspace(4, 10, 100)\n",
    "\n",
    "2. obliczamy wartości funkcji w tych punktach\n",
    "\n",
    "y = 2*x+2\n",
    "\n",
    "3. rysujemy wykres\n",
    "\n",
    "plt.plot(x, y)\n",
    "\n",
    "\n",
    "Narysuj graficzne rozwiązanie powyższego układu równań\n"
   ]
  },
  {
   "cell_type": "code",
   "execution_count": null,
   "metadata": {},
   "outputs": [],
   "source": [
    "# przekształćmy równanie do postaci \"funkcyjnej\"\n",
    "# 2x - y = -1\n",
    "# 3x + y = 16\n",
    "#\n",
    "# y = \n",
    "# y = \n",
    "\n",
    "# nasze rozwiązanie jest w okolicach punktu (3,7)\n",
    "# x = np.linspace(....)\n",
    "\n",
    "# wykres 1\n",
    "# plt.plot(...)\n",
    "# wykres 2\n",
    " \n"
   ]
  },
  {
   "cell_type": "code",
   "execution_count": 49,
   "metadata": {},
   "outputs": [
    {
     "data": {
      "text/plain": [
       "[<matplotlib.lines.Line2D at 0x26f50aaa700>]"
      ]
     },
     "execution_count": 49,
     "metadata": {},
     "output_type": "execute_result"
    },
    {
     "data": {
      "image/png": "[encoded data removed]",
      "text/plain": [
       "<Figure size 432x288 with 1 Axes>"
      ]
     },
     "metadata": {
      "needs_background": "light"
     },
     "output_type": "display_data"
    }
   ],
   "source": [
    "import matplotlib.pyplot as plt\n",
    "x=np.linspace(4,10,100)\n",
    "y=2*x+2\n",
    "\n",
    "plt.plot(x,y)"
   ]
  },
  {
   "cell_type": "code",
   "execution_count": 55,
   "metadata": {},
   "outputs": [
    {
     "data": {
      "text/plain": [
       "[<matplotlib.lines.Line2D at 0x26f50ded070>]"
      ]
     },
     "execution_count": 55,
     "metadata": {},
     "output_type": "execute_result"
    },
    {
     "data": {
      "image/png": "[encoded data removed]",
      "text/plain": [
       "<Figure size 432x288 with 1 Axes>"
      ]
     },
     "metadata": {
      "needs_background": "light"
     },
     "output_type": "display_data"
    }
   ],
   "source": [
    "y1=2*x+1\n",
    "y2=(-3)*x+16\n",
    "\n",
    "x=np.linspace(0,7,100)\n",
    "\n",
    "plt.plot(x,y1)\n",
    "plt.plot(x,y2)"
   ]
  },
  {
   "cell_type": "code",
   "execution_count": null,
   "metadata": {},
   "outputs": [],
   "source": []
  },
  {
   "cell_type": "markdown",
   "metadata": {},
   "source": [
    "---\n",
    "Przetestuj działanie funkcji ```np.hstack``` i ```np.vstack``` aby \"skleić\" ze sobą dwie wygenerowane na początku zajęć macierze"
   ]
  },
  {
   "cell_type": "code",
   "execution_count": 63,
   "metadata": {},
   "outputs": [
    {
     "name": "stdout",
     "output_type": "stream",
     "text": [
      "[[1 4 0 1 0 0]\n",
      " [1 9 3 0 1 0]\n",
      " [0 1 1 0 0 1]]\n",
      "[[1 4 0]\n",
      " [1 9 3]\n",
      " [0 1 1]\n",
      " [1 0 0]\n",
      " [0 1 0]\n",
      " [0 0 1]]\n"
     ]
    }
   ],
   "source": [
    "import numpy as np\n",
    "A = np.matrix(\n",
    "    [\n",
    "        [1,4,0],\n",
    "        [1,9,3],\n",
    "        [0,1,1]\n",
    "    ]\n",
    ")\n",
    "I = np.matrix(\n",
    "[\n",
    "    [1,0,0],\n",
    "    [0,1,0],\n",
    "    [0,0,1]\n",
    "]\n",
    ")\n",
    "\n",
    "M = np.hstack((A,I))\n",
    "print(M)\n",
    "\n",
    "N = np.vstack((A,I))\n",
    "print(N)"
   ]
  },
  {
   "cell_type": "markdown",
   "metadata": {},
   "source": [
    "---\n",
    "\n",
    "Jedną z metod wyznaczania macierzy odwrotnej jest metoda eliminacji Gaussa-Jordana. Polega ona na tym, że do naszej macierzy A \"doklejamy\" macierz jednostkową I\n",
    "\n",
    "[ A | I ]\n",
    "\n",
    "Teraz, stosując dozwolone operacje \n",
    "- mnożenie wiersza przez stałą <> 0\n",
    "- dodawanie do wiersza innego wiersza (przemnożonego przez stałą <> 0)\n",
    "- zamianę wierszy miejscami\n",
    "\n",
    "dążymy do tego, aby uzyskać macierz postaci [ I | B ]\n",
    "\n",
    "Jeśli nam się to uda, to B będzie macierzą odwrotną do A.\n"
   ]
  },
  {
   "cell_type": "code",
   "execution_count": 66,
   "metadata": {},
   "outputs": [
    {
     "name": "stdout",
     "output_type": "stream",
     "text": [
      "[[5 6]\n",
      " [4 5]]\n"
     ]
    }
   ],
   "source": [
    "# przykład:\n",
    "\n",
    "A = np.matrix(\n",
    "    [\n",
    "        [ 5, 6 ],\n",
    "        [ 4, 5 ]\n",
    "    ]\n",
    ")\n",
    "print (A)"
   ]
  },
  {
   "cell_type": "code",
   "execution_count": 67,
   "metadata": {},
   "outputs": [
    {
     "name": "stdout",
     "output_type": "stream",
     "text": [
      "[[1. 0.]\n",
      " [0. 1.]]\n"
     ]
    }
   ],
   "source": [
    "I = np.eye(2)\n",
    "print (I)"
   ]
  },
  {
   "cell_type": "code",
   "execution_count": 68,
   "metadata": {},
   "outputs": [
    {
     "name": "stdout",
     "output_type": "stream",
     "text": [
      "[[5. 6. 1. 0.]\n",
      " [4. 5. 0. 1.]]\n"
     ]
    }
   ],
   "source": [
    "M = np.hstack([A, I])\n",
    "print (M)"
   ]
  },
  {
   "cell_type": "code",
   "execution_count": 69,
   "metadata": {},
   "outputs": [
    {
     "name": "stdout",
     "output_type": "stream",
     "text": [
      "[[ 5.   6.   1.   0. ]\n",
      " [ 0.   0.2 -0.8  1. ]]\n"
     ]
    }
   ],
   "source": [
    "# odejmijmy od drugiego wiersza wiersz pierwszy przemnożony przez 4/5\n",
    "M[1,:] -= 4/5*M[0,:]\n",
    "print (M)"
   ]
  },
  {
   "cell_type": "code",
   "execution_count": 70,
   "metadata": {},
   "outputs": [
    {
     "name": "stdout",
     "output_type": "stream",
     "text": [
      "[[ 5.00000000e+00  2.13162821e-14  2.50000000e+01 -3.00000000e+01]\n",
      " [ 0.00000000e+00  2.00000000e-01 -8.00000000e-01  1.00000000e+00]]\n"
     ]
    }
   ],
   "source": [
    "# od pierwszego wiersza odejmijmy wiersz drugi przemnożony przez 30\n",
    "M[0,:] -= 30*M[1,:]\n",
    "print (M)"
   ]
  },
  {
   "cell_type": "code",
   "execution_count": 71,
   "metadata": {},
   "outputs": [
    {
     "name": "stdout",
     "output_type": "stream",
     "text": [
      "[[ 1.00000000e+00  4.26325641e-15  5.00000000e+00 -6.00000000e+00]\n",
      " [ 0.00000000e+00  1.00000000e+00 -4.00000000e+00  5.00000000e+00]]\n"
     ]
    }
   ],
   "source": [
    "# podzielmy pierwszy wiersz przez 5 i drugi przez 0.2\n",
    "M[0,:] /= 5\n",
    "M[1,:] /= 0.2\n",
    "\n",
    "print (M)"
   ]
  },
  {
   "cell_type": "code",
   "execution_count": 72,
   "metadata": {},
   "outputs": [
    {
     "name": "stdout",
     "output_type": "stream",
     "text": [
      "[[ 1.  0.  5. -6.]\n",
      " [ 0.  1. -4.  5.]]\n"
     ]
    }
   ],
   "source": [
    "# czy to co jest po lewej stronie jest wystarczająco bliskie macierzy jednostkowej ?\n",
    "print (M.round(2))"
   ]
  },
  {
   "cell_type": "code",
   "execution_count": 73,
   "metadata": {},
   "outputs": [],
   "source": [
    "# wyciągnijmy \"prawą\" stronę\n",
    "B = M[:, 2:]"
   ]
  },
  {
   "cell_type": "code",
   "execution_count": 74,
   "metadata": {},
   "outputs": [
    {
     "name": "stdout",
     "output_type": "stream",
     "text": [
      "[[ 5. -6.]\n",
      " [-4.  5.]]\n",
      "[[ 5. -6.]\n",
      " [-4.  5.]]\n"
     ]
    }
   ],
   "source": [
    "# i sprawdźmy, czy jest taki jak A^{-1}\n",
    "print (B)\n",
    "print (A**-1)"
   ]
  },
  {
   "cell_type": "markdown",
   "metadata": {},
   "source": [
    "Stosując powyższą metodę - wyznacz macierz odwrotną do macierzy\n",
    "\n",
    "$$\n",
    "\\begin{bmatrix}\n",
    "1 & 2 & 3 \\\\\n",
    "0 & 1 & 4 \\\\\n",
    "5 & 6 & 0\n",
    "\\end{bmatrix}\n",
    "$$\n"
   ]
  },
  {
   "cell_type": "code",
   "execution_count": 65,
   "metadata": {},
   "outputs": [
    {
     "name": "stdout",
     "output_type": "stream",
     "text": [
      "[[1. 0. 0.]\n",
      " [0. 1. 0.]\n",
      " [0. 0. 1.]]\n",
      "[[1 2 3]\n",
      " [0 1 4]\n",
      " [5 6 0]]\n"
     ]
    }
   ],
   "source": [
    "A = np.matrix(\n",
    "[\n",
    "    [1,2,3],\n",
    "    [0,1,4],\n",
    "    [5,6,0]\n",
    "])\n",
    "\n",
    "I = np.eye(3)\n",
    "\n",
    "print(I)\n",
    "print(A)"
   ]
  },
  {
   "cell_type": "code",
   "execution_count": 75,
   "metadata": {},
   "outputs": [
    {
     "name": "stdout",
     "output_type": "stream",
     "text": [
      "[[5. 6. 1. 0.]\n",
      " [4. 5. 0. 1.]]\n"
     ]
    }
   ],
   "source": [
    "M=np.hstack((A,I))\n",
    "print(M)"
   ]
  },
  {
   "cell_type": "code",
   "execution_count": 79,
   "metadata": {},
   "outputs": [
    {
     "name": "stdout",
     "output_type": "stream",
     "text": [
      "[[ 1.  1.  1. -1.]\n",
      " [ 4.  5.  0.  1.]]\n"
     ]
    }
   ],
   "source": [
    "M[0,:] -= M[1,:] \n",
    "print(M)"
   ]
  },
  {
   "cell_type": "code",
   "execution_count": 80,
   "metadata": {},
   "outputs": [
    {
     "name": "stdout",
     "output_type": "stream",
     "text": [
      "[[ 1.  1.  1. -1.]\n",
      " [ 0.  1. -4.  5.]]\n"
     ]
    }
   ],
   "source": [
    "M[1,:] -= 4*M[0,:]\n",
    "print(M)"
   ]
  },
  {
   "cell_type": "code",
   "execution_count": 81,
   "metadata": {},
   "outputs": [
    {
     "name": "stdout",
     "output_type": "stream",
     "text": [
      "[[ 1.  0.  5. -6.]\n",
      " [ 0.  1. -4.  5.]]\n"
     ]
    }
   ],
   "source": [
    "M[0,:] -= M[1,:]\n",
    "print(M)"
   ]
  },
  {
   "cell_type": "code",
   "execution_count": null,
   "metadata": {},
   "outputs": [],
   "source": [
    "# sprawdzenie"
   ]
  },
  {
   "cell_type": "code",
   "execution_count": 84,
   "metadata": {},
   "outputs": [
    {
     "name": "stdout",
     "output_type": "stream",
     "text": [
      "[[ 5. -6.]\n",
      " [-4.  5.]]\n"
     ]
    }
   ],
   "source": [
    "B=M[:,2:]\n",
    "print(B)"
   ]
  },
  {
   "cell_type": "code",
   "execution_count": 85,
   "metadata": {},
   "outputs": [
    {
     "name": "stdout",
     "output_type": "stream",
     "text": [
      "[[1. 0.]\n",
      " [0. 1.]]\n"
     ]
    }
   ],
   "source": [
    "print(B*A)"
   ]
  },
  {
   "cell_type": "code",
   "execution_count": null,
   "metadata": {},
   "outputs": [],
   "source": []
  }
 ],
 "metadata": {
  "kernelspec": {
   "display_name": "Python 3 (ipykernel)",
   "language": "python",
   "name": "python3"
  },
  "language_info": {
   "codemirror_mode": {
    "name": "ipython",
    "version": 3
   },
   "file_extension": ".py",
   "mimetype": "text/x-python",
   "name": "python",
   "nbconvert_exporter": "python",
   "pygments_lexer": "ipython3",
   "version": "3.9.7"
  }
 },
 "nbformat": 4,
 "nbformat_minor": 4
}
